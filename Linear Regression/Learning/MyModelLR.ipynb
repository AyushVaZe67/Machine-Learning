{
 "cells": [
  {
   "cell_type": "code",
   "execution_count": 19,
   "id": "7603cbbc-e77a-4751-b719-aefd717144d7",
   "metadata": {},
   "outputs": [],
   "source": [
    "import pandas as pd\n",
    "import numpy as np\n",
    "import matplotlib.pyplot as plt\n",
    "from sklearn.model_selection import train_test_split\n",
    "\n",
    "class MeraLR:\n",
    "    def __init__(self):\n",
    "        self.m = None\n",
    "        self.b = None\n",
    "    \n",
    "    def fit(self,X_train,y_train):\n",
    "        num = 0\n",
    "        den = 0\n",
    "        for i in range(X_train.shape[0]):\n",
    "            num = num + ((X_train[i] - X_train.mean()) * (y_train[i] - y_train.mean()))\n",
    "            den = den + (X_train[i] - X_train.mean()) * (X_train[i] - X_train.mean())\n",
    "\n",
    "        self.m = num/den\n",
    "        self.b = (y_train.mean() - (self.m * X_train.mean()))\n",
    "        print(self.m)\n",
    "        print(self.b)\n",
    "\n",
    "    def predict(self,X_test):\n",
    "        return self.m * X_test + self.b"
   ]
  },
  {
   "cell_type": "code",
   "execution_count": 5,
   "id": "572b601f-7cef-4d12-9a9c-99e5d63838de",
   "metadata": {},
   "outputs": [],
   "source": [
    "df = pd.read_csv(\"Salary_dataset.csv\")"
   ]
  },
  {
   "cell_type": "code",
   "execution_count": 6,
   "id": "dc375569-de24-4dc5-a20b-2c80b5f6e790",
   "metadata": {},
   "outputs": [
    {
     "data": {
      "text/html": [
       "<div>\n",
       "<style scoped>\n",
       "    .dataframe tbody tr th:only-of-type {\n",
       "        vertical-align: middle;\n",
       "    }\n",
       "\n",
       "    .dataframe tbody tr th {\n",
       "        vertical-align: top;\n",
       "    }\n",
       "\n",
       "    .dataframe thead th {\n",
       "        text-align: right;\n",
       "    }\n",
       "</style>\n",
       "<table border=\"1\" class=\"dataframe\">\n",
       "  <thead>\n",
       "    <tr style=\"text-align: right;\">\n",
       "      <th></th>\n",
       "      <th>Unnamed: 0</th>\n",
       "      <th>YearsExperience</th>\n",
       "      <th>Salary</th>\n",
       "    </tr>\n",
       "  </thead>\n",
       "  <tbody>\n",
       "    <tr>\n",
       "      <th>0</th>\n",
       "      <td>0</td>\n",
       "      <td>1.2</td>\n",
       "      <td>39344.0</td>\n",
       "    </tr>\n",
       "    <tr>\n",
       "      <th>1</th>\n",
       "      <td>1</td>\n",
       "      <td>1.4</td>\n",
       "      <td>46206.0</td>\n",
       "    </tr>\n",
       "    <tr>\n",
       "      <th>2</th>\n",
       "      <td>2</td>\n",
       "      <td>1.6</td>\n",
       "      <td>37732.0</td>\n",
       "    </tr>\n",
       "    <tr>\n",
       "      <th>3</th>\n",
       "      <td>3</td>\n",
       "      <td>2.1</td>\n",
       "      <td>43526.0</td>\n",
       "    </tr>\n",
       "    <tr>\n",
       "      <th>4</th>\n",
       "      <td>4</td>\n",
       "      <td>2.3</td>\n",
       "      <td>39892.0</td>\n",
       "    </tr>\n",
       "  </tbody>\n",
       "</table>\n",
       "</div>"
      ],
      "text/plain": [
       "   Unnamed: 0  YearsExperience   Salary\n",
       "0           0              1.2  39344.0\n",
       "1           1              1.4  46206.0\n",
       "2           2              1.6  37732.0\n",
       "3           3              2.1  43526.0\n",
       "4           4              2.3  39892.0"
      ]
     },
     "execution_count": 6,
     "metadata": {},
     "output_type": "execute_result"
    }
   ],
   "source": [
    "df.head()"
   ]
  },
  {
   "cell_type": "code",
   "execution_count": 34,
   "id": "71714a72-0651-4dae-9dcb-e939037a794f",
   "metadata": {},
   "outputs": [],
   "source": [
    "X = df.iloc[:,0].values\n",
    "y = df.iloc[:,1].values"
   ]
  },
  {
   "cell_type": "code",
   "execution_count": 59,
   "id": "fb3fb32e-706b-4f29-a080-2d131bf4646e",
   "metadata": {},
   "outputs": [],
   "source": [
    "X_train,X_test,y_train,y_test = train_test_split(X,y,test_size=0.2,random_state=2)"
   ]
  },
  {
   "cell_type": "code",
   "execution_count": 60,
   "id": "38e1f61a-cd36-4512-902c-f7c0b5d9f07e",
   "metadata": {},
   "outputs": [],
   "source": [
    "lr = MeraLR()"
   ]
  },
  {
   "cell_type": "code",
   "execution_count": 61,
   "id": "0ad6a62d-180d-4c29-93c9-fd13203b4aac",
   "metadata": {},
   "outputs": [
    {
     "data": {
      "text/html": [
       "<div>\n",
       "<style scoped>\n",
       "    .dataframe tbody tr th:only-of-type {\n",
       "        vertical-align: middle;\n",
       "    }\n",
       "\n",
       "    .dataframe tbody tr th {\n",
       "        vertical-align: top;\n",
       "    }\n",
       "\n",
       "    .dataframe thead th {\n",
       "        text-align: right;\n",
       "    }\n",
       "</style>\n",
       "<table border=\"1\" class=\"dataframe\">\n",
       "  <thead>\n",
       "    <tr style=\"text-align: right;\">\n",
       "      <th></th>\n",
       "      <th>YearsExperience</th>\n",
       "      <th>Salary</th>\n",
       "    </tr>\n",
       "  </thead>\n",
       "  <tbody>\n",
       "    <tr>\n",
       "      <th>0</th>\n",
       "      <td>1.2</td>\n",
       "      <td>39344.0</td>\n",
       "    </tr>\n",
       "    <tr>\n",
       "      <th>1</th>\n",
       "      <td>1.4</td>\n",
       "      <td>46206.0</td>\n",
       "    </tr>\n",
       "    <tr>\n",
       "      <th>2</th>\n",
       "      <td>1.6</td>\n",
       "      <td>37732.0</td>\n",
       "    </tr>\n",
       "    <tr>\n",
       "      <th>3</th>\n",
       "      <td>2.1</td>\n",
       "      <td>43526.0</td>\n",
       "    </tr>\n",
       "    <tr>\n",
       "      <th>4</th>\n",
       "      <td>2.3</td>\n",
       "      <td>39892.0</td>\n",
       "    </tr>\n",
       "  </tbody>\n",
       "</table>\n",
       "</div>"
      ],
      "text/plain": [
       "   YearsExperience   Salary\n",
       "0              1.2  39344.0\n",
       "1              1.4  46206.0\n",
       "2              1.6  37732.0\n",
       "3              2.1  43526.0\n",
       "4              2.3  39892.0"
      ]
     },
     "execution_count": 61,
     "metadata": {},
     "output_type": "execute_result"
    }
   ],
   "source": [
    "df.head()"
   ]
  },
  {
   "cell_type": "code",
   "execution_count": 62,
   "id": "32808dfa-5cf8-4955-bd21-46d1043c3647",
   "metadata": {},
   "outputs": [
    {
     "data": {
      "text/plain": [
       "(24,)"
      ]
     },
     "execution_count": 62,
     "metadata": {},
     "output_type": "execute_result"
    }
   ],
   "source": [
    "X_train.shape"
   ]
  },
  {
   "cell_type": "code",
   "execution_count": 63,
   "id": "f6422d81-4955-499a-ba09-7e1846b8458b",
   "metadata": {},
   "outputs": [
    {
     "data": {
      "text/plain": [
       "(24,)"
      ]
     },
     "execution_count": 63,
     "metadata": {},
     "output_type": "execute_result"
    }
   ],
   "source": [
    "y_train.shape"
   ]
  },
  {
   "cell_type": "code",
   "execution_count": 65,
   "id": "05112171-2620-40af-bf86-aa34b8ad7163",
   "metadata": {},
   "outputs": [
    {
     "data": {
      "text/plain": [
       "(6,)"
      ]
     },
     "execution_count": 65,
     "metadata": {},
     "output_type": "execute_result"
    }
   ],
   "source": [
    "X_test.shape\n"
   ]
  },
  {
   "cell_type": "code",
   "execution_count": 66,
   "id": "12d56478-b0b3-4e3e-9598-421284269317",
   "metadata": {},
   "outputs": [
    {
     "data": {
      "text/plain": [
       "(6,)"
      ]
     },
     "execution_count": 66,
     "metadata": {},
     "output_type": "execute_result"
    }
   ],
   "source": [
    "y_test.shape"
   ]
  },
  {
   "cell_type": "code",
   "execution_count": 68,
   "id": "c5581c5a-ad2d-4769-9fec-dbc277dbc5c1",
   "metadata": {},
   "outputs": [
    {
     "name": "stdout",
     "output_type": "stream",
     "text": [
      "9569.586885432866\n",
      "23437.21046340505\n"
     ]
    }
   ],
   "source": [
    "lr = MeraLR()\n",
    "lr.fit(X_train,y_train)"
   ]
  },
  {
   "cell_type": "code",
   "execution_count": 69,
   "id": "c456708d-9c2b-4f99-8ee8-241adfde2ac0",
   "metadata": {},
   "outputs": [
    {
     "data": {
      "text/plain": [
       "36834.632103011056"
      ]
     },
     "execution_count": 69,
     "metadata": {},
     "output_type": "execute_result"
    }
   ],
   "source": [
    "lr.predict(X_test[0])"
   ]
  },
  {
   "cell_type": "code",
   "execution_count": 73,
   "id": "6fb5d4fa-7c7d-4736-8748-f48f7635638b",
   "metadata": {},
   "outputs": [
    {
     "data": {
      "text/plain": [
       "array([1.4, 1.2, 4.6, 3.8, 7.2, 6.1])"
      ]
     },
     "execution_count": 73,
     "metadata": {},
     "output_type": "execute_result"
    }
   ],
   "source": [
    "X_test\n"
   ]
  },
  {
   "cell_type": "code",
   "execution_count": 74,
   "id": "b0d089ab-4fba-43eb-a040-b262199ba034",
   "metadata": {},
   "outputs": [
    {
     "data": {
      "text/plain": [
       "array([46206., 39344., 61112., 57190., 98274., 93941.])"
      ]
     },
     "execution_count": 74,
     "metadata": {},
     "output_type": "execute_result"
    }
   ],
   "source": [
    "y_test"
   ]
  },
  {
   "cell_type": "code",
   "execution_count": 95,
   "id": "e0917fee-abf1-4ed2-8248-8f246bc43326",
   "metadata": {},
   "outputs": [
    {
     "data": {
      "image/png": "[encoded data removed]",
      "text/plain": [
       "<Figure size 640x480 with 1 Axes>"
      ]
     },
     "metadata": {},
     "output_type": "display_data"
    }
   ],
   "source": [
    "plt.scatter(df['YearsExperience'],df['Salary'])\n",
    "plt.plot(X_train,lr.predict(X_train),color='red')\n",
    "plt.show()"
   ]
  },
  {
   "cell_type": "code",
   "execution_count": 96,
   "id": "186d1c11-097c-4313-93aa-c24f2b5fd245",
   "metadata": {},
   "outputs": [
    {
     "name": "stdout",
     "output_type": "stream",
     "text": [
      "9569.586885432866\n",
      "23437.21046340505\n"
     ]
    }
   ],
   "source": [
    "lr.fit(X_train,y_train)"
   ]
  },
  {
   "cell_type": "code",
   "execution_count": 97,
   "id": "2c91340d-eb71-4f5d-afcc-7756c02129eb",
   "metadata": {},
   "outputs": [
    {
     "data": {
      "text/plain": [
       "36834.632103011056"
      ]
     },
     "execution_count": 97,
     "metadata": {},
     "output_type": "execute_result"
    }
   ],
   "source": [
    "lr.predict(X_test[0])"
   ]
  },
  {
   "cell_type": "code",
   "execution_count": 100,
   "id": "93709d27-d846-465c-9aca-bb68ec965ffa",
   "metadata": {},
   "outputs": [
    {
     "data": {
      "text/plain": [
       "5.413333333333332"
      ]
     },
     "execution_count": 100,
     "metadata": {},
     "output_type": "execute_result"
    }
   ],
   "source": [
    "X.mean()"
   ]
  },
  {
   "cell_type": "code",
   "execution_count": 102,
   "id": "3d73b6cd-1cc5-46b0-92c4-e56a764ea978",
   "metadata": {},
   "outputs": [
    {
     "data": {
      "text/plain": [
       "5.754166666666666"
      ]
     },
     "execution_count": 102,
     "metadata": {},
     "output_type": "execute_result"
    }
   ],
   "source": [
    "X_train.mean()"
   ]
  },
  {
   "cell_type": "code",
   "execution_count": 103,
   "id": "4b4871aa-63c9-4895-8f5a-0bf4a73c6fee",
   "metadata": {},
   "outputs": [
    {
     "data": {
      "text/plain": [
       "4.05"
      ]
     },
     "execution_count": 103,
     "metadata": {},
     "output_type": "execute_result"
    }
   ],
   "source": [
    "X_test.mean()"
   ]
  },
  {
   "cell_type": "code",
   "execution_count": null,
   "id": "1ea83acd-5015-4ed5-97da-f5b5ce0fbe31",
   "metadata": {},
   "outputs": [],
   "source": []
  }
 ],
 "metadata": {
  "kernelspec": {
   "display_name": "Python 3 (ipykernel)",
   "language": "python",
   "name": "python3"
  },
  "language_info": {
   "codemirror_mode": {
    "name": "ipython",
    "version": 3
   },
   "file_extension": ".py",
   "mimetype": "text/x-python",
   "name": "python",
   "nbconvert_exporter": "python",
   "pygments_lexer": "ipython3",
   "version": "3.12.7"
  }
 },
 "nbformat": 4,
 "nbformat_minor": 5
}
