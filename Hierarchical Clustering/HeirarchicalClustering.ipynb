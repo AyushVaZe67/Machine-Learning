{
 "cells": [
  {
   "cell_type": "code",
   "execution_count": null,
   "id": "5eab117b-67d8-4abc-8392-c543c4e71741",
   "metadata": {},
   "outputs": [],
   "source": [
    "import numpy as np\n",
    "import matplotlib.pyplot as plt\n",
    "import seaborn as sns\n",
    "from sklearn.datasets import make_blobs\n",
    "from sklearn.cluster import AgglomerativeClustering\n",
    "from scipy.cluster.hierarchy import dendrogram, linkage\n",
    "\n",
    "# Generate sample data\n",
    "X, y_true = make_blobs(n_samples=150, centers=3, cluster_std=0.6, random_state=42)\n",
    "\n",
    "# Plot original data\n",
    "plt.figure(figsize=(6, 4))\n",
    "sns.scatterplot(x=X[:, 0], y=X[:, 1])\n",
    "plt.title(\"Original Data\")\n",
    "plt.show()\n",
    "\n",
    "# Create the linkage matrix for dendrogram\n",
    "linked = linkage(X, method='ward')\n",
    "\n",
    "# Plot dendrogram\n",
    "plt.figure(figsize=(10, 6))\n",
    "dendrogram(linked, truncate_mode='lastp', p=30, leaf_rotation=90., leaf_font_size=12., show_contracted=True)\n",
    "plt.title(\"Dendrogram (Hierarchical Clustering)\")\n",
    "plt.xlabel(\"Sample Index\")\n",
    "plt.ylabel(\"Distance\")\n",
    "plt.show()\n",
    "\n",
    "# Apply Agglomerative Clustering\n",
    "hc = AgglomerativeClustering(n_clusters=3, affinity='euclidean', linkage='ward')\n",
    "labels = hc.fit_predict(X)\n",
    "\n",
    "# Plot clustered data\n",
    "plt.figure(figsize=(6, 4))\n",
    "sns.scatterplot(x=X[:, 0], y=X[:, 1], hue=labels, palette=\"deep\")\n",
    "plt.title(\"Clusters Found by Hierarchical Clustering\")\n",
    "plt.show()"
   ]
  },
  {
   "cell_type": "code",
   "execution_count": null,
   "id": "b05c4a69-cb4e-411e-b257-754950e15461",
   "metadata": {},
   "outputs": [],
   "source": []
  }
 ],
 "metadata": {
  "kernelspec": {
   "display_name": "Python 3 (ipykernel)",
   "language": "python",
   "name": "python3"
  },
  "language_info": {
   "codemirror_mode": {
    "name": "ipython",
    "version": 3
   },
   "file_extension": ".py",
   "mimetype": "text/x-python",
   "name": "python",
   "nbconvert_exporter": "python",
   "pygments_lexer": "ipython3",
   "version": "3.12.9"
  }
 },
 "nbformat": 4,
 "nbformat_minor": 5
}
