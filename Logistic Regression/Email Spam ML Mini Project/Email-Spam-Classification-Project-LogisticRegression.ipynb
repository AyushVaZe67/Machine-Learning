{
 "cells": [
  {
   "cell_type": "code",
   "execution_count": null,
   "id": "9ad2f0bc-5676-4405-994e-c97fd7e90984",
   "metadata": {},
   "outputs": [],
   "source": []
  }
 ],
 "metadata": {
  "kernelspec": {
   "display_name": "",
   "name": ""
  },
  "language_info": {
   "name": ""
  }
 },
 "nbformat": 4,
 "nbformat_minor": 5
}
