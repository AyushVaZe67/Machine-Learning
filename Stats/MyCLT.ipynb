{
 "cells": [
  {
   "cell_type": "code",
   "execution_count": 1,
   "id": "4aa144a2-337d-4a4b-a3a0-a0bfaf394541",
   "metadata": {},
   "outputs": [],
   "source": [
    "import pandas as pd\n",
    "import numpy as np\n",
    "import seaborn as sns"
   ]
  },
  {
   "cell_type": "code",
   "execution_count": 2,
   "id": "6b6783e2-f739-4bd1-87e3-707b50eaca44",
   "metadata": {},
   "outputs": [],
   "source": [
    "df = pd.read_csv('solves.csv')"
   ]
  },
  {
   "cell_type": "code",
   "execution_count": 3,
   "id": "57d7e07d-e331-4782-a152-183743196a5d",
   "metadata": {},
   "outputs": [
    {
     "data": {
      "text/html": [
       "<div>\n",
       "<style scoped>\n",
       "    .dataframe tbody tr th:only-of-type {\n",
       "        vertical-align: middle;\n",
       "    }\n",
       "\n",
       "    .dataframe tbody tr th {\n",
       "        vertical-align: top;\n",
       "    }\n",
       "\n",
       "    .dataframe thead th {\n",
       "        text-align: right;\n",
       "    }\n",
       "</style>\n",
       "<table border=\"1\" class=\"dataframe\">\n",
       "  <thead>\n",
       "    <tr style=\"text-align: right;\">\n",
       "      <th></th>\n",
       "      <th>#</th>\n",
       "      <th>Person</th>\n",
       "      <th>Solve 1</th>\n",
       "      <th>Solve 2</th>\n",
       "      <th>Solve 3</th>\n",
       "      <th>Solve 4</th>\n",
       "      <th>Solve 5</th>\n",
       "      <th>Fastest Solve</th>\n",
       "      <th>Country</th>\n",
       "    </tr>\n",
       "  </thead>\n",
       "  <tbody>\n",
       "    <tr>\n",
       "      <th>0</th>\n",
       "      <td>1</td>\n",
       "      <td>Yusheng Du (杜宇生)</td>\n",
       "      <td>1113</td>\n",
       "      <td>347</td>\n",
       "      <td>880</td>\n",
       "      <td>DNF</td>\n",
       "      <td>707</td>\n",
       "      <td>347</td>\n",
       "      <td>China</td>\n",
       "    </tr>\n",
       "    <tr>\n",
       "      <th>1</th>\n",
       "      <td>2</td>\n",
       "      <td>Max Park</td>\n",
       "      <td>363</td>\n",
       "      <td>552</td>\n",
       "      <td>566</td>\n",
       "      <td>537</td>\n",
       "      <td>522</td>\n",
       "      <td>363</td>\n",
       "      <td>USA</td>\n",
       "    </tr>\n",
       "    <tr>\n",
       "      <th>2</th>\n",
       "      <td>3</td>\n",
       "      <td>Jode Brewster</td>\n",
       "      <td>1034</td>\n",
       "      <td>968</td>\n",
       "      <td>718</td>\n",
       "      <td>617</td>\n",
       "      <td>388</td>\n",
       "      <td>388</td>\n",
       "      <td>Australia</td>\n",
       "    </tr>\n",
       "    <tr>\n",
       "      <th>3</th>\n",
       "      <td>4</td>\n",
       "      <td>Asher Kim-Magierek</td>\n",
       "      <td>601</td>\n",
       "      <td>668</td>\n",
       "      <td>389</td>\n",
       "      <td>683</td>\n",
       "      <td>822</td>\n",
       "      <td>389</td>\n",
       "      <td>USA</td>\n",
       "    </tr>\n",
       "    <tr>\n",
       "      <th>4</th>\n",
       "      <td>5</td>\n",
       "      <td>Tymon Kolasiński</td>\n",
       "      <td>397</td>\n",
       "      <td>665</td>\n",
       "      <td>561</td>\n",
       "      <td>581</td>\n",
       "      <td>666</td>\n",
       "      <td>397</td>\n",
       "      <td>Poland</td>\n",
       "    </tr>\n",
       "    <tr>\n",
       "      <th>...</th>\n",
       "      <td>...</td>\n",
       "      <td>...</td>\n",
       "      <td>...</td>\n",
       "      <td>...</td>\n",
       "      <td>...</td>\n",
       "      <td>...</td>\n",
       "      <td>...</td>\n",
       "      <td>...</td>\n",
       "      <td>...</td>\n",
       "    </tr>\n",
       "    <tr>\n",
       "      <th>995</th>\n",
       "      <td>996</td>\n",
       "      <td>Zeke Mackay</td>\n",
       "      <td>849</td>\n",
       "      <td>657</td>\n",
       "      <td>673</td>\n",
       "      <td>551</td>\n",
       "      <td>775</td>\n",
       "      <td>551</td>\n",
       "      <td>USA</td>\n",
       "    </tr>\n",
       "    <tr>\n",
       "      <th>996</th>\n",
       "      <td>997</td>\n",
       "      <td>Philipp Weyer</td>\n",
       "      <td>551</td>\n",
       "      <td>893</td>\n",
       "      <td>812</td>\n",
       "      <td>631</td>\n",
       "      <td>749</td>\n",
       "      <td>551</td>\n",
       "      <td>Germany</td>\n",
       "    </tr>\n",
       "    <tr>\n",
       "      <th>997</th>\n",
       "      <td>998</td>\n",
       "      <td>Patrick Ponce</td>\n",
       "      <td>804</td>\n",
       "      <td>551</td>\n",
       "      <td>722</td>\n",
       "      <td>604</td>\n",
       "      <td>786</td>\n",
       "      <td>551</td>\n",
       "      <td>USA</td>\n",
       "    </tr>\n",
       "    <tr>\n",
       "      <th>998</th>\n",
       "      <td>999</td>\n",
       "      <td>Adam Łyskawa</td>\n",
       "      <td>551</td>\n",
       "      <td>1190</td>\n",
       "      <td>695</td>\n",
       "      <td>966</td>\n",
       "      <td>1237</td>\n",
       "      <td>551</td>\n",
       "      <td>Poland</td>\n",
       "    </tr>\n",
       "    <tr>\n",
       "      <th>999</th>\n",
       "      <td>1000</td>\n",
       "      <td>Ben Zhao</td>\n",
       "      <td>761</td>\n",
       "      <td>551</td>\n",
       "      <td>714</td>\n",
       "      <td>639</td>\n",
       "      <td>773</td>\n",
       "      <td>551</td>\n",
       "      <td>USA</td>\n",
       "    </tr>\n",
       "  </tbody>\n",
       "</table>\n",
       "<p>1000 rows × 9 columns</p>\n",
       "</div>"
      ],
      "text/plain": [
       "        #              Person Solve 1 Solve 2 Solve 3 Solve 4 Solve 5  \\\n",
       "0       1    Yusheng Du (杜宇生)    1113     347     880     DNF     707   \n",
       "1       2            Max Park     363     552     566     537     522   \n",
       "2       3       Jode Brewster    1034     968     718     617     388   \n",
       "3       4  Asher Kim-Magierek     601     668     389     683     822   \n",
       "4       5    Tymon Kolasiński     397     665     561     581     666   \n",
       "..    ...                 ...     ...     ...     ...     ...     ...   \n",
       "995   996         Zeke Mackay     849     657     673     551     775   \n",
       "996   997       Philipp Weyer     551     893     812     631     749   \n",
       "997   998       Patrick Ponce     804     551     722     604     786   \n",
       "998   999        Adam Łyskawa     551    1190     695     966    1237   \n",
       "999  1000            Ben Zhao     761     551     714     639     773   \n",
       "\n",
       "     Fastest Solve    Country  \n",
       "0              347      China  \n",
       "1              363        USA  \n",
       "2              388  Australia  \n",
       "3              389        USA  \n",
       "4              397     Poland  \n",
       "..             ...        ...  \n",
       "995            551        USA  \n",
       "996            551    Germany  \n",
       "997            551        USA  \n",
       "998            551     Poland  \n",
       "999            551        USA  \n",
       "\n",
       "[1000 rows x 9 columns]"
      ]
     },
     "execution_count": 3,
     "metadata": {},
     "output_type": "execute_result"
    }
   ],
   "source": [
    "df"
   ]
  },
  {
   "cell_type": "code",
   "execution_count": 22,
   "id": "b8c6c4b9-e4e8-4322-af86-0a1c0313e95d",
   "metadata": {},
   "outputs": [
    {
     "data": {
      "text/plain": [
       "<Axes: ylabel='Density'>"
      ]
     },
     "execution_count": 22,
     "metadata": {},
     "output_type": "execute_result"
    },
    {
     "data": {
      "image/png": "[encoded data removed]",
      "text/plain": [
       "<Figure size 640x480 with 1 Axes>"
      ]
     },
     "metadata": {},
     "output_type": "display_data"
    }
   ],
   "source": [
    "df['Fastest Solve'].plot(kind='kde')"
   ]
  },
  {
   "cell_type": "code",
   "execution_count": 31,
   "id": "e229e8c4-eeee-4514-b695-10f2eac74965",
   "metadata": {},
   "outputs": [],
   "source": [
    "samples = []\n",
    "for i in range(100):   \n",
    "    samples.append(df['Fastest Solve'].sample(30).values.tolist())"
   ]
  },
  {
   "cell_type": "code",
   "execution_count": 32,
   "id": "1e7028e5-20e8-4111-99e6-c0a479c2f86a",
   "metadata": {},
   "outputs": [],
   "source": [
    "samples = np.array(samples)"
   ]
  },
  {
   "cell_type": "code",
   "execution_count": 33,
   "id": "7b958c92-a80d-43bc-9c66-83a8b3b5986a",
   "metadata": {},
   "outputs": [
    {
     "data": {
      "text/plain": [
       "array([[521, 539, 541, ..., 464, 541, 537],\n",
       "       [488, 480, 530, ..., 549, 531, 481],\n",
       "       [544, 451, 525, ..., 548, 539, 540],\n",
       "       ...,\n",
       "       [541, 521, 539, ..., 520, 524, 438],\n",
       "       [518, 527, 542, ..., 508, 508, 533],\n",
       "       [462, 550, 550, ..., 477, 491, 550]])"
      ]
     },
     "execution_count": 33,
     "metadata": {},
     "output_type": "execute_result"
    }
   ],
   "source": [
    "samples"
   ]
  },
  {
   "cell_type": "code",
   "execution_count": 35,
   "id": "1b1bba5a-9526-403e-bb52-477858b16ae1",
   "metadata": {},
   "outputs": [],
   "source": [
    "sampling_means = samples.mean(axis=1)"
   ]
  },
  {
   "cell_type": "code",
   "execution_count": 36,
   "id": "e0be4c41-083f-4681-87cd-3838fd1ac205",
   "metadata": {},
   "outputs": [
    {
     "data": {
      "text/plain": [
       "<Axes: ylabel='Density'>"
      ]
     },
     "execution_count": 36,
     "metadata": {},
     "output_type": "execute_result"
    },
    {
     "data": {
      "image/png": "[encoded data removed]",
      "text/plain": [
       "<Figure size 640x480 with 1 Axes>"
      ]
     },
     "metadata": {},
     "output_type": "display_data"
    }
   ],
   "source": [
    "sns.kdeplot(sampling_means)"
   ]
  },
  {
   "cell_type": "code",
   "execution_count": 37,
   "id": "25cd1a7e-49da-46e9-8adc-9d3d614332ff",
   "metadata": {},
   "outputs": [
    {
     "data": {
      "text/plain": [
       "np.float64(512.3276666666666)"
      ]
     },
     "execution_count": 37,
     "metadata": {},
     "output_type": "execute_result"
    }
   ],
   "source": [
    "sampling_means.mean()"
   ]
  },
  {
   "cell_type": "code",
   "execution_count": 38,
   "id": "4216844f-37ec-4ca3-a3d9-c163281fd095",
   "metadata": {},
   "outputs": [
    {
     "data": {
      "text/plain": [
       "np.float64(512.228)"
      ]
     },
     "execution_count": 38,
     "metadata": {},
     "output_type": "execute_result"
    }
   ],
   "source": [
    "df['Fastest Solve'].mean()"
   ]
  },
  {
   "cell_type": "code",
   "execution_count": null,
   "id": "e34efb82-3bc0-4b24-a3d0-4f81d52f4cc1",
   "metadata": {},
   "outputs": [],
   "source": []
  }
 ],
 "metadata": {
  "kernelspec": {
   "display_name": "Python 3 (ipykernel)",
   "language": "python",
   "name": "python3"
  },
  "language_info": {
   "codemirror_mode": {
    "name": "ipython",
    "version": 3
   },
   "file_extension": ".py",
   "mimetype": "text/x-python",
   "name": "python",
   "nbconvert_exporter": "python",
   "pygments_lexer": "ipython3",
   "version": "3.12.9"
  }
 },
 "nbformat": 4,
 "nbformat_minor": 5
}
