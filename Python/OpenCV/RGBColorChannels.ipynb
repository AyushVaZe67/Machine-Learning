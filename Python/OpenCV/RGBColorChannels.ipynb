{
 "cells": [
  {
   "cell_type": "code",
   "execution_count": 30,
   "id": "e35d6604-a0ac-4625-b351-3ab19a8bf8dd",
   "metadata": {},
   "outputs": [],
   "source": [
    "import cv2\n",
    "import numpy as np"
   ]
  },
  {
   "cell_type": "code",
   "execution_count": 31,
   "id": "d6ea1fd3-538b-487d-a854-4b3276efbd8d",
   "metadata": {},
   "outputs": [],
   "source": [
    "img1 = cv2.imread('img1.png')\n",
    "img = cv2.imread('sample.jpg')"
   ]
  },
  {
   "cell_type": "code",
   "execution_count": 23,
   "id": "748cebea-ba03-401e-9b8d-d48add1c73f1",
   "metadata": {},
   "outputs": [],
   "source": [
    "img_gray = cv2.cvtColor(img,cv2.COLOR_BGR2GRAY)"
   ]
  },
  {
   "cell_type": "code",
   "execution_count": 38,
   "id": "4f5e711c-0b3c-4d71-a066-2b54b603009d",
   "metadata": {},
   "outputs": [],
   "source": [
    "img_blue = img[:,:,0]\n",
    "img_green = img[:,:,1]\n",
    "img_red = img[:,:,2]"
   ]
  },
  {
   "cell_type": "code",
   "execution_count": 39,
   "id": "031c6e7b-28b7-4f21-8a0a-c5ee844db7a3",
   "metadata": {},
   "outputs": [],
   "source": [
    "new_img = np.hstack((img_blue,img_green,img_red))"
   ]
  },
  {
   "cell_type": "code",
   "execution_count": 40,
   "id": "ed95aed6-f8d1-4883-b86a-5d1f98453400",
   "metadata": {},
   "outputs": [
    {
     "data": {
      "text/plain": [
       "-1"
      ]
     },
     "execution_count": 40,
     "metadata": {},
     "output_type": "execute_result"
    }
   ],
   "source": [
    "cv2.imshow('window',new_img)\n",
    "cv2.waitKey(0)"
   ]
  },
  {
   "cell_type": "code",
   "execution_count": null,
   "id": "9fd4e68d-8433-4644-85bc-149e2597480e",
   "metadata": {},
   "outputs": [],
   "source": []
  }
 ],
 "metadata": {
  "kernelspec": {
   "display_name": "Python 3 (ipykernel)",
   "language": "python",
   "name": "python3"
  },
  "language_info": {
   "codemirror_mode": {
    "name": "ipython",
    "version": 3
   },
   "file_extension": ".py",
   "mimetype": "text/x-python",
   "name": "python",
   "nbconvert_exporter": "python",
   "pygments_lexer": "ipython3",
   "version": "3.12.9"
  }
 },
 "nbformat": 4,
 "nbformat_minor": 5
}
