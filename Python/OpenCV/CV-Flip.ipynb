{
 "cells": [
  {
   "cell_type": "code",
   "execution_count": 1,
   "id": "a6a764ae-cef9-4e3b-8c87-62f35a729b74",
   "metadata": {},
   "outputs": [],
   "source": [
    "import cv2"
   ]
  },
  {
   "cell_type": "code",
   "execution_count": 2,
   "id": "539184cb-0d85-4057-ad92-926299782b02",
   "metadata": {},
   "outputs": [],
   "source": [
    "img = cv2.imread('img1.png')\n",
    "img1 = cv2.imread('your_image.jpg')"
   ]
  },
  {
   "cell_type": "code",
   "execution_count": 17,
   "id": "9aab1743-150f-4b5c-a109-ddc1e298a586",
   "metadata": {},
   "outputs": [],
   "source": [
    "img_flip = cv2.flip(img,0)\n",
    "img_flip2 = cv2.flip(img,1)\n",
    "img_flip3 = cv2.flip(img,-1)"
   ]
  },
  {
   "cell_type": "code",
   "execution_count": 16,
   "id": "2178cb09-ecde-41ae-a625-0f765361f530",
   "metadata": {},
   "outputs": [
    {
     "data": {
      "text/plain": [
       "-1"
      ]
     },
     "execution_count": 16,
     "metadata": {},
     "output_type": "execute_result"
    }
   ],
   "source": [
    "cv2.imshow('window',img_flip)\n",
    "cv2.waitKey(0)"
   ]
  },
  {
   "cell_type": "code",
   "execution_count": null,
   "id": "ce770ad6-7f8e-46ea-8ea9-b63f518970cc",
   "metadata": {},
   "outputs": [],
   "source": []
  }
 ],
 "metadata": {
  "kernelspec": {
   "display_name": "Python 3 (ipykernel)",
   "language": "python",
   "name": "python3"
  },
  "language_info": {
   "codemirror_mode": {
    "name": "ipython",
    "version": 3
   },
   "file_extension": ".py",
   "mimetype": "text/x-python",
   "name": "python",
   "nbconvert_exporter": "python",
   "pygments_lexer": "ipython3",
   "version": "3.12.9"
  }
 },
 "nbformat": 4,
 "nbformat_minor": 5
}
