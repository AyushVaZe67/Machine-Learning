{
 "cells": [
  {
   "cell_type": "code",
   "execution_count": 1,
   "id": "eec9e7b1-c644-4599-9c97-178f4d18f562",
   "metadata": {},
   "outputs": [],
   "source": [
    "import cv2"
   ]
  },
  {
   "cell_type": "code",
   "execution_count": 2,
   "id": "c53908e4-e096-4b3c-8dcd-66dcfdb8cf15",
   "metadata": {},
   "outputs": [],
   "source": [
    "img = cv2.imread('img1.png')\n",
    "img1 = cv2.imread('your_image.jpg')"
   ]
  },
  {
   "cell_type": "code",
   "execution_count": 11,
   "id": "ad87652b-b459-4fe9-a617-1aab5f000056",
   "metadata": {},
   "outputs": [],
   "source": [
    "img_resize = cv2.resize(img,(img.shape[1]//2,img.shape[0]//2))"
   ]
  },
  {
   "cell_type": "code",
   "execution_count": 12,
   "id": "d226b01c-ecde-4950-8e4e-651559460258",
   "metadata": {},
   "outputs": [
    {
     "data": {
      "text/plain": [
       "(343, 611, 3)"
      ]
     },
     "execution_count": 12,
     "metadata": {},
     "output_type": "execute_result"
    }
   ],
   "source": [
    "img_resize.shape"
   ]
  },
  {
   "cell_type": "code",
   "execution_count": null,
   "id": "595247aa-ea6f-40a2-8add-e51b9e5c1b79",
   "metadata": {},
   "outputs": [],
   "source": []
  }
 ],
 "metadata": {
  "kernelspec": {
   "display_name": "Python 3 (ipykernel)",
   "language": "python",
   "name": "python3"
  },
  "language_info": {
   "codemirror_mode": {
    "name": "ipython",
    "version": 3
   },
   "file_extension": ".py",
   "mimetype": "text/x-python",
   "name": "python",
   "nbconvert_exporter": "python",
   "pygments_lexer": "ipython3",
   "version": "3.12.9"
  }
 },
 "nbformat": 4,
 "nbformat_minor": 5
}
