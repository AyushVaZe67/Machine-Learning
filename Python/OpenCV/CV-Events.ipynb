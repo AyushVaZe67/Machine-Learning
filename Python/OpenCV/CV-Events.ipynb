{
 "cells": [
  {
   "cell_type": "code",
   "execution_count": 1,
   "id": "a6692fe8-8fcc-4739-adf7-cc219bdc9e21",
   "metadata": {},
   "outputs": [],
   "source": [
    "import cv2\n",
    "import numpy as np"
   ]
  },
  {
   "cell_type": "code",
   "execution_count": 3,
   "id": "7b0db593-c169-41d2-8d78-8b9fa46505eb",
   "metadata": {},
   "outputs": [],
   "source": [
    "def draw(event,x,y,flags,params):\n",
    "    if event == 1:\n",
    "        cv2.circle(img,center=(x,y),radius=20,color=(255,0,0),thickness=5)\n",
    "\n",
    "cv2.namedWindow(winname=\"Window\")\n",
    "cv2.setMouseCallback(\"Window\",draw)\n",
    "\n",
    "img = np.zeros((512,512,3))\n",
    "\n",
    "while True:\n",
    "\n",
    "    cv2.imshow(\"Window\",img)\n",
    "\n",
    "    if cv2.waitKey(1) & 0xFF == ord('x'):\n",
    "        break\n",
    "\n",
    "cv2.destroyAllWindows()"
   ]
  },
  {
   "cell_type": "code",
   "execution_count": 4,
   "id": "f0ee9d30-11a5-4ddb-99d9-04a56d1a0724",
   "metadata": {},
   "outputs": [],
   "source": []
  },
  {
   "cell_type": "code",
   "execution_count": null,
   "id": "a2d402a5-65c3-4814-a55c-800073a3a616",
   "metadata": {},
   "outputs": [],
   "source": []
  }
 ],
 "metadata": {
  "kernelspec": {
   "display_name": "Python 3 (ipykernel)",
   "language": "python",
   "name": "python3"
  },
  "language_info": {
   "codemirror_mode": {
    "name": "ipython",
    "version": 3
   },
   "file_extension": ".py",
   "mimetype": "text/x-python",
   "name": "python",
   "nbconvert_exporter": "python",
   "pygments_lexer": "ipython3",
   "version": "3.12.9"
  }
 },
 "nbformat": 4,
 "nbformat_minor": 5
}
