{
 "cells": [
  {
   "cell_type": "code",
   "execution_count": null,
   "id": "39b3c0db-7168-4ca4-8929-07944f75f091",
   "metadata": {},
   "outputs": [],
   "source": []
  }
 ],
 "metadata": {
  "kernelspec": {
   "display_name": "",
   "name": ""
  },
  "language_info": {
   "name": ""
  }
 },
 "nbformat": 4,
 "nbformat_minor": 5
}
