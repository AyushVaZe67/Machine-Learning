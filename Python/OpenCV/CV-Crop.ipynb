{
 "cells": [
  {
   "cell_type": "code",
   "execution_count": 1,
   "id": "4f7d3dfb-6861-4bdf-a09e-8beccaa78973",
   "metadata": {},
   "outputs": [],
   "source": [
    "import cv2"
   ]
  },
  {
   "cell_type": "code",
   "execution_count": 2,
   "id": "e850075b-3ef4-46d4-b7b8-d1a23e45e1c6",
   "metadata": {},
   "outputs": [],
   "source": [
    "img = cv2.imread('img1.png')\n",
    "img1 = cv2.imread('your_image.jpg')"
   ]
  },
  {
   "cell_type": "code",
   "execution_count": 3,
   "id": "3f6b3322-8e95-4d99-956d-efc0e709db60",
   "metadata": {},
   "outputs": [],
   "source": [
    "img_crop = img[100:300,200:400]"
   ]
  },
  {
   "cell_type": "code",
   "execution_count": 6,
   "id": "05297c7b-de35-45a4-a84a-7ffece4665cc",
   "metadata": {},
   "outputs": [
    {
     "data": {
      "text/plain": [
       "-1"
      ]
     },
     "execution_count": 6,
     "metadata": {},
     "output_type": "execute_result"
    }
   ],
   "source": [
    "cv2.imshow('Window Ayush',img_crop)\n",
    "cv2.waitKey(0)"
   ]
  },
  {
   "cell_type": "code",
   "execution_count": null,
   "id": "08882499-9e68-4814-9a68-d7b5ef350b34",
   "metadata": {},
   "outputs": [],
   "source": []
  }
 ],
 "metadata": {
  "kernelspec": {
   "display_name": "Python 3 (ipykernel)",
   "language": "python",
   "name": "python3"
  },
  "language_info": {
   "codemirror_mode": {
    "name": "ipython",
    "version": 3
   },
   "file_extension": ".py",
   "mimetype": "text/x-python",
   "name": "python",
   "nbconvert_exporter": "python",
   "pygments_lexer": "ipython3",
   "version": "3.12.9"
  }
 },
 "nbformat": 4,
 "nbformat_minor": 5
}
