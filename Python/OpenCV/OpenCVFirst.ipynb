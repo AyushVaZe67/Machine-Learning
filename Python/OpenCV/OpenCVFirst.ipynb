{
 "cells": [
  {
   "cell_type": "code",
   "execution_count": 8,
   "id": "ca019066-f5f6-4184-b4a0-bea932be0531",
   "metadata": {},
   "outputs": [],
   "source": [
    "import cv2\n",
    "\n",
    "# Try to load the image\n",
    "image = cv2.imread('your_image.jpg')\n",
    "\n",
    "# Check if the image loaded successfully\n",
    "if image is None:\n",
    "    print(\"Error: Image not found or path is incorrect\")\n",
    "else:\n",
    "    cv2.imshow('Original Image', image)\n",
    "\n",
    "    gray_image = cv2.cvtColor(image, cv2.COLOR_BGR2GRAY)\n",
    "    cv2.imshow('Grayscale Image', gray_image)\n",
    "\n",
    "    cv2.waitKey(0)\n",
    "    cv2.destroyAllWindows()"
   ]
  },
  {
   "cell_type": "code",
   "execution_count": 9,
   "id": "9a4669e9-979a-410d-9c9c-07e0fe80dff0",
   "metadata": {},
   "outputs": [],
   "source": [
    "import cv2\n",
    "\n",
    "# Load image\n",
    "image = cv2.imread('your_image.jpg')\n",
    "\n",
    "# Check if image is loaded successfully\n",
    "if image is None:\n",
    "    print(\"Error: Could not load image.\")\n",
    "    exit()\n",
    "\n",
    "# Resize image (optional)\n",
    "image_resized = cv2.resize(image, (600, 400))\n",
    "\n",
    "# Convert to grayscale\n",
    "gray = cv2.cvtColor(image_resized, cv2.COLOR_BGR2GRAY)\n",
    "\n",
    "# Apply Gaussian Blur\n",
    "blur = cv2.GaussianBlur(gray, (5, 5), 0)\n",
    "\n",
    "# Perform Canny edge detection\n",
    "edges = cv2.Canny(blur, threshold1=50, threshold2=150)\n",
    "\n",
    "# Display all results\n",
    "cv2.imshow('Original', image_resized)\n",
    "cv2.imshow('Grayscale', gray)\n",
    "cv2.imshow('Blurred', blur)\n",
    "cv2.imshow('Edges (Canny)', edges)\n",
    "\n",
    "# Wait for key press and clean up\n",
    "cv2.waitKey(0)\n",
    "cv2.destroyAllWindows()"
   ]
  },
  {
   "cell_type": "code",
   "execution_count": null,
   "id": "82576c60-96af-42f8-aa3e-49175bbe779c",
   "metadata": {},
   "outputs": [],
   "source": []
  }
 ],
 "metadata": {
  "kernelspec": {
   "display_name": "Python 3 (ipykernel)",
   "language": "python",
   "name": "python3"
  },
  "language_info": {
   "codemirror_mode": {
    "name": "ipython",
    "version": 3
   },
   "file_extension": ".py",
   "mimetype": "text/x-python",
   "name": "python",
   "nbconvert_exporter": "python",
   "pygments_lexer": "ipython3",
   "version": "3.12.9"
  }
 },
 "nbformat": 4,
 "nbformat_minor": 5
}
