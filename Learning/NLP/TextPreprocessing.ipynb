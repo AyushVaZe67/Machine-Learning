{
 "cells": [
  {
   "cell_type": "code",
   "execution_count": 15,
   "id": "0d144207-f876-4ab2-b427-8749aa4320bc",
   "metadata": {},
   "outputs": [],
   "source": [
    "import nltk\n",
    "import re\n",
    "from nltk.corpus import stopwords\n",
    "from nltk.stem import WordNetLemmatizer, PorterStemmer\n",
    "from nltk.tokenize import word_tokenize"
   ]
  },
  {
   "cell_type": "code",
   "execution_count": 10,
   "id": "7df46238-cf61-4260-9cdc-c62193d1ab41",
   "metadata": {},
   "outputs": [],
   "source": [
    "text = 'The curious cat jumped onto the windowsill to watch the birds outside.'"
   ]
  },
  {
   "cell_type": "code",
   "execution_count": 11,
   "id": "bee06dc0-945b-497a-a1b4-81766bb0c1f0",
   "metadata": {},
   "outputs": [],
   "source": [
    "def clean_text(text):\n",
    "    text = text.lower()  # lowercase\n",
    "    text = re.sub(r\"http\\S+\", \"\", text)  # remove URLs\n",
    "    text = re.sub(r\"[^a-z\\s]\", \"\", text)  # remove punctuation and special characters\n",
    "    text = re.sub(r\"\\s+\", \" \", text).strip()  # remove extra spaces\n",
    "    return text"
   ]
  },
  {
   "cell_type": "code",
   "execution_count": 12,
   "id": "96d9edb8-ed0b-486a-87d3-4c96534f97e7",
   "metadata": {},
   "outputs": [],
   "source": [
    "cleaned_text = clean_text(text)"
   ]
  },
  {
   "cell_type": "code",
   "execution_count": 13,
   "id": "c16e7353-0a8f-410a-8622-84ceab5f495f",
   "metadata": {},
   "outputs": [
    {
     "data": {
      "text/plain": [
       "'the curious cat jumped onto the windowsill to watch the birds outside'"
      ]
     },
     "execution_count": 13,
     "metadata": {},
     "output_type": "execute_result"
    }
   ],
   "source": [
    "cleaned_text"
   ]
  },
  {
   "cell_type": "code",
   "execution_count": 16,
   "id": "32d0464c-39ba-4e32-93d8-60a9bc451e60",
   "metadata": {},
   "outputs": [],
   "source": [
    "tokens = word_tokenize(cleaned_text)"
   ]
  },
  {
   "cell_type": "code",
   "execution_count": 17,
   "id": "19fbf380-eda3-426b-a90f-eb0d2cfaeab9",
   "metadata": {},
   "outputs": [
    {
     "data": {
      "text/plain": [
       "['the',\n",
       " 'curious',\n",
       " 'cat',\n",
       " 'jumped',\n",
       " 'onto',\n",
       " 'the',\n",
       " 'windowsill',\n",
       " 'to',\n",
       " 'watch',\n",
       " 'the',\n",
       " 'birds',\n",
       " 'outside']"
      ]
     },
     "execution_count": 17,
     "metadata": {},
     "output_type": "execute_result"
    }
   ],
   "source": [
    "tokens"
   ]
  },
  {
   "cell_type": "code",
   "execution_count": 18,
   "id": "43c3f6fa-1e62-48f1-ba32-fb9ae7067b76",
   "metadata": {},
   "outputs": [],
   "source": [
    "stop_words = set(stopwords.words(\"english\"))\n",
    "filtered_tokens = [word for word in tokens if word not in stop_words]"
   ]
  },
  {
   "cell_type": "code",
   "execution_count": 19,
   "id": "a97f5e4e-7fdb-4db4-9e27-eb99e22eb8ee",
   "metadata": {},
   "outputs": [
    {
     "data": {
      "text/plain": [
       "['curious', 'cat', 'jumped', 'onto', 'windowsill', 'watch', 'birds', 'outside']"
      ]
     },
     "execution_count": 19,
     "metadata": {},
     "output_type": "execute_result"
    }
   ],
   "source": [
    "filtered_tokens"
   ]
  },
  {
   "cell_type": "code",
   "execution_count": 20,
   "id": "d607da04-4138-41ff-97b5-001f06849311",
   "metadata": {},
   "outputs": [],
   "source": [
    "lemmatizer = WordNetLemmatizer()\n",
    "lemmatized_tokens = [lemmatizer.lemmatize(word) for word in filtered_tokens]"
   ]
  },
  {
   "cell_type": "code",
   "execution_count": 21,
   "id": "8abe1ab5-0d12-4f78-9a4a-6e95be2dcc4c",
   "metadata": {},
   "outputs": [
    {
     "data": {
      "text/plain": [
       "['curious', 'cat', 'jumped', 'onto', 'windowsill', 'watch', 'bird', 'outside']"
      ]
     },
     "execution_count": 21,
     "metadata": {},
     "output_type": "execute_result"
    }
   ],
   "source": [
    "lemmatized_tokens"
   ]
  },
  {
   "cell_type": "code",
   "execution_count": 22,
   "id": "801a249d-d5a3-4cea-a6f4-feeccbca40c3",
   "metadata": {},
   "outputs": [],
   "source": [
    "stemmer = PorterStemmer()\n",
    "stemmed_tokens = [stemmer.stem(word) for word in filtered_tokens]"
   ]
  },
  {
   "cell_type": "code",
   "execution_count": 23,
   "id": "ed3f1c53-7dbc-4aed-956c-b2edf72959ae",
   "metadata": {},
   "outputs": [
    {
     "data": {
      "text/plain": [
       "['curiou', 'cat', 'jump', 'onto', 'windowsil', 'watch', 'bird', 'outsid']"
      ]
     },
     "execution_count": 23,
     "metadata": {},
     "output_type": "execute_result"
    }
   ],
   "source": [
    "stemmed_tokens"
   ]
  },
  {
   "cell_type": "code",
   "execution_count": 24,
   "id": "274b5b13-1dba-4233-95db-ffedab7efd56",
   "metadata": {},
   "outputs": [
    {
     "name": "stdout",
     "output_type": "stream",
     "text": [
      "Original Text: The curious cat jumped onto the windowsill to watch the birds outside.\n",
      "Cleaned Text: the curious cat jumped onto the windowsill to watch the birds outside\n",
      "Tokens: ['the', 'curious', 'cat', 'jumped', 'onto', 'the', 'windowsill', 'to', 'watch', 'the', 'birds', 'outside']\n",
      "Filtered Tokens (No Stop Words): ['curious', 'cat', 'jumped', 'onto', 'windowsill', 'watch', 'birds', 'outside']\n",
      "Lemmatized Tokens: ['curious', 'cat', 'jumped', 'onto', 'windowsill', 'watch', 'bird', 'outside']\n",
      "Stemmed Tokens: ['curiou', 'cat', 'jump', 'onto', 'windowsil', 'watch', 'bird', 'outsid']\n"
     ]
    }
   ],
   "source": [
    "print(\"Original Text:\", text)\n",
    "print(\"Cleaned Text:\", cleaned_text)\n",
    "print(\"Tokens:\", tokens)\n",
    "print(\"Filtered Tokens (No Stop Words):\", filtered_tokens)\n",
    "print(\"Lemmatized Tokens:\", lemmatized_tokens)\n",
    "print(\"Stemmed Tokens:\", stemmed_tokens)"
   ]
  },
  {
   "cell_type": "code",
   "execution_count": null,
   "id": "d033c0f7-6ddd-4be3-8ce9-8d9b3e6c6ec0",
   "metadata": {},
   "outputs": [],
   "source": []
  }
 ],
 "metadata": {
  "kernelspec": {
   "display_name": "Python 3 (ipykernel)",
   "language": "python",
   "name": "python3"
  },
  "language_info": {
   "codemirror_mode": {
    "name": "ipython",
    "version": 3
   },
   "file_extension": ".py",
   "mimetype": "text/x-python",
   "name": "python",
   "nbconvert_exporter": "python",
   "pygments_lexer": "ipython3",
   "version": "3.12.9"
  }
 },
 "nbformat": 4,
 "nbformat_minor": 5
}
